{
  "nbformat": 4,
  "nbformat_minor": 0,
  "metadata": {
    "colab": {
      "name": "sentiment analysisipynb",
      "provenance": []
    },
    "kernelspec": {
      "name": "python3",
      "display_name": "Python 3"
    }
  },
  "cells": [
    {
      "cell_type": "code",
      "metadata": {
        "id": "KzhWw-HqQco2",
        "colab_type": "code",
        "colab": {}
      },
      "source": [
        "import torch\n",
        "import torch.nn as nn\n",
        "import torch.nn.functional as F\n",
        "import torch.optim as optim\n",
        "from torchtext import data, datasets\n",
        "import numpy as np\n",
        "import pandas as pd\n",
        "import random\n",
        "#use torchtext==0.3.1 only because stable and only for linux not for windows"
      ],
      "execution_count": null,
      "outputs": []
    },
    {
      "cell_type": "code",
      "metadata": {
        "id": "maB1aYSdV7F2",
        "colab_type": "code",
        "colab": {}
      },
      "source": [
        "#dont change these values nor comment them\n",
        "SEED = 1234 \n",
        "torch.manual_seed(SEED) \n",
        "torch.backends.cudnn.deterministic = True\n",
        "\n",
        "TEXT = data.Field(tokenize = 'spacy') \n",
        "LABEL = data.LabelField(dtype = torch.float) #datatype may be removed or change"
      ],
      "execution_count": null,
      "outputs": []
    },
    {
      "cell_type": "code",
      "metadata": {
        "id": "P75R-0soWCFp",
        "colab_type": "code",
        "colab": {}
      },
      "source": [
        "# when loading your own data and is in tabular for use these method otherwise dont run it WARNING\n",
        "\n",
        "path = \"root\" # where your train and test data is present i.e root file\n",
        "train_file = \"train.csv\" # name of the train file\n",
        "test_file = \"test.csv\" #name of the test file\n",
        "format = 'csv' #format of the files\n",
        "fields=[('text', TEXT), ('labels', LABELS)] # in this 'text' is column in csv containing text, 'labels' in csv containing target TEXT, LABELS are preprocess\n",
        "\n",
        "train_data, test_data = data.TabularDataset.splits(\n",
        "    path=path, train=train_file ,\n",
        "    test=test_file, format=format,\n",
        "    fields=fields)"
      ],
      "execution_count": null,
      "outputs": []
    },
    {
      "cell_type": "code",
      "metadata": {
        "id": "6Qii2uBIXkZe",
        "colab_type": "code",
        "colab": {}
      },
      "source": [
        "#we are using IMDB dataset so we run this cell\n",
        "\n",
        "train_data, test_data = datasets.IMDB.splits(TEXT, LABEL)"
      ],
      "execution_count": null,
      "outputs": []
    },
    {
      "cell_type": "code",
      "metadata": {
        "id": "xqpeQW2VX60j",
        "colab_type": "code",
        "colab": {
          "base_uri": "https://localhost:8080/",
          "height": 51
        },
        "outputId": "1eb0232c-ec11-4049-fdd6-5f2e60f02757"
      },
      "source": [
        "#measure the size of our dataset\n",
        "\n",
        "print(f'Number of training examples: {len(train_data)}')\n",
        "print(f'Number of testing examples: {len(test_data)}')"
      ],
      "execution_count": null,
      "outputs": [
        {
          "output_type": "stream",
          "text": [
            "Number of training examples: 25000\n",
            "Number of testing examples: 25000\n"
          ],
          "name": "stdout"
        }
      ]
    },
    {
      "cell_type": "code",
      "metadata": {
        "id": "p5dtAnirYDNc",
        "colab_type": "code",
        "colab": {
          "base_uri": "https://localhost:8080/",
          "height": 54
        },
        "outputId": "589ad8a5-f25e-42ff-d1b4-edaef9245e58"
      },
      "source": [
        "# lets see out first examples of train dataset\n",
        "print(vars(train_data.examples[0]))"
      ],
      "execution_count": null,
      "outputs": [
        {
          "output_type": "stream",
          "text": [
            "{'text': ['Bela', 'made', '9', 'pics', 'for', 'Monogram', ',', 'but', 'it', 'was', 'only', 'at', 'THIS', 'one', ',', 'the', '4TH', ',', 'that', 'things', 'started', 'to', 'come', 'together', '.', 'All', 'the', 'rest', 'in', 'the', 'series', 'would', 'use', 'this', 'one', 'as', 'the', 'essential', 'template', 'for', 'production', ',', 'writing', 'and', 'character', 'development', '.', 'From', 'here', 'on', ',', 'better', 'or', 'worse', ',', 'the', 'series', 'would', 'also', 'deal', 'with', 'one', 'essential', 'theme', ':', 'a', 'scientist', '(', 'usually', 'Bela', ')', 'makes', 'experiments', 'in', 'the', 'basement', 'or', 'the', 'old', 'house', '(', 'sometimes', 'IN', 'the', 'basement', 'in', 'the', 'old', 'house', ')', 'that', 'causes', 'things', 'to', 'go', 'blooey', '.', 'This', 'was', 'also', 'the', 'first', 'time', 'that', 'Art', 'Director', 'Dave', 'Milton', 'got', 'a', 'chance', 'to', 'spread', 'his', 'wings', '.', 'He', 'came', 'on', 'board', 'for', 'BLACK', 'DRAGONS', ',', 'the', 'flick', 'before', ',', 'but', 'THIS', 'one', 'is', 'where', 'he', 'gets', 'to', 'make', 'his', 'craft', 'start', 'to', 'click', '.', 'Lewis', 'made', 'great', 'atmosphere', 'for', 'next', 'to', 'nothing', ',', 'and', 'was', 'around', 'for', 'all', 'the', 'rest', 'of', 'the', 'Monograms', '.', 'Casting', 'is', 'key', 'in', 'these', ',', 'and', 'it', \"'s\", 'a', 'pretty', 'good', 'one', 'B', 'movie', 'wise', ',', 'here', '.', 'You', 'get', 'Barclay', 'and', 'Harlen', '(', 'also', 'from', 'BLACK', 'DRAGONS),along', 'with', 'Russell', ',', 'who', 'would', 'star', 'in', 'Lewtons', \"'\", 'CAT', 'PEOPLE', 'movies', '..', 'and', 'Rosetto', ',', 'from', 'SPOOKS', 'RUN', 'WILD', '...', 'a', 'nice', 'slice', 'of', 'Poverty', 'Row', 'talent', '.', 'If', 'you', 'have', 'limited', 'time', 'and', 'budget', ',', 'start', 'with', 'this', 'one', '...', 'it', 'sums', 'up', 'everything', 'they', 'had', 'learned', 'up', 'to', 'this', 'point', ',', 'and', 'gives', 'you', 'something', 'to', 'compare', 'the', 'rest', 'to', '.', 'The', 'plot', '?', 'Bela', 'steals', 'gland', 'juice', 'to', 'keep', 'his', 'nasty', 'wife', 'young', '.', 'They', 'both', 'like', 'to', 'sleep', 'in', 'coffins', '.', 'If', 'you', 'can', 'read', 'that', 'and', 'smile', ',', 'the', 'rest', 'will', 'be', 'easy', '.'], 'label': 'pos'}\n"
          ],
          "name": "stdout"
        }
      ]
    },
    {
      "cell_type": "code",
      "metadata": {
        "id": "pPXc2DngZPbg",
        "colab_type": "code",
        "colab": {}
      },
      "source": [
        "#train valid split\n",
        "\n",
        "train_data, valid_data = train_data.split(random_state = random.seed(SEED))"
      ],
      "execution_count": null,
      "outputs": []
    },
    {
      "cell_type": "code",
      "metadata": {
        "id": "RePv5-9eZeQz",
        "colab_type": "code",
        "colab": {
          "base_uri": "https://localhost:8080/",
          "height": 68
        },
        "outputId": "c9a94b0b-f045-4bcd-8499-d549484e3a18"
      },
      "source": [
        "print(f'Number of training examples: {len(train_data)}')\n",
        "print(f'Number of validation examples: {len(valid_data)}')\n",
        "print(f'Number of testing examples: {len(test_data)}')"
      ],
      "execution_count": null,
      "outputs": [
        {
          "output_type": "stream",
          "text": [
            "Number of training examples: 17500\n",
            "Number of validation examples: 7500\n",
            "Number of testing examples: 25000\n"
          ],
          "name": "stdout"
        }
      ]
    },
    {
      "cell_type": "code",
      "metadata": {
        "id": "VdlGZyu1ZhmS",
        "colab_type": "code",
        "colab": {}
      },
      "source": [
        "MAX_VOCAB_SIZE = 100000\n",
        "\n",
        "# build the vocabulary on our datas\n",
        "#TEXT.build_vocab(train_data, max_size = MAX_VOCAB_SIZE)\n",
        "\n",
        "\n",
        "# use this one if want to use better embedding method it uses glove\n",
        "TEXT.build_vocab(train_data, \n",
        "                 max_size = MAX_VOCAB_SIZE, \n",
        "                 vectors = \"glove.6B.200d\", \n",
        "                 unk_init = torch.Tensor.normal_)\n",
        "\n",
        "\n",
        "LABEL.build_vocab(train_data)"
      ],
      "execution_count": null,
      "outputs": []
    },
    {
      "cell_type": "code",
      "metadata": {
        "id": "rKZ6fqsXaBra",
        "colab_type": "code",
        "colab": {
          "base_uri": "https://localhost:8080/",
          "height": 51
        },
        "outputId": "ee0157a4-c8ec-4760-af34-76d6796342d0"
      },
      "source": [
        "print(f\"Unique tokens in TEXT vocabulary: {len(TEXT.vocab)}\")\n",
        "print(f\"Unique tokens in LABEL vocabulary: {len(LABEL.vocab)}\")"
      ],
      "execution_count": null,
      "outputs": [
        {
          "output_type": "stream",
          "text": [
            "Unique tokens in TEXT vocabulary: 100002\n",
            "Unique tokens in LABEL vocabulary: 2\n"
          ],
          "name": "stdout"
        }
      ]
    },
    {
      "cell_type": "code",
      "metadata": {
        "id": "yDx5i0GabjB6",
        "colab_type": "code",
        "colab": {
          "base_uri": "https://localhost:8080/",
          "height": 34
        },
        "outputId": "5c842b0e-ec62-4e6f-c3a0-e423b8d45d56"
      },
      "source": [
        "# print all the labels\n",
        "print(LABEL.vocab.stoi)"
      ],
      "execution_count": null,
      "outputs": [
        {
          "output_type": "stream",
          "text": [
            "defaultdict(<function _default_unk_index at 0x7f28814eb0d0>, {'neg': 0, 'pos': 1})\n"
          ],
          "name": "stdout"
        }
      ]
    },
    {
      "cell_type": "code",
      "metadata": {
        "id": "2w6MEEYZbmLY",
        "colab_type": "code",
        "colab": {
          "base_uri": "https://localhost:8080/",
          "height": 54
        },
        "outputId": "6372f5f6-57f5-4dbd-bf60-c393e71cbbc1"
      },
      "source": [
        "# print 20 most common text vocabulary\n",
        "print(TEXT.vocab.freqs.most_common(20))"
      ],
      "execution_count": null,
      "outputs": [
        {
          "output_type": "stream",
          "text": [
            "[('the', 203136), (',', 193205), ('.', 166263), ('a', 109768), ('and', 109620), ('of', 100942), ('to', 93838), ('is', 76509), ('in', 61486), ('I', 54356), ('it', 53797), ('that', 49631), ('\"', 44781), (\"'s\", 43931), ('this', 42570), ('-', 36991), ('/><br', 35552), ('was', 35000), ('as', 30632), ('with', 30157)]\n"
          ],
          "name": "stdout"
        }
      ]
    },
    {
      "cell_type": "code",
      "metadata": {
        "id": "DJQcPMzNcr24",
        "colab_type": "code",
        "colab": {}
      },
      "source": [
        "BATCH_SIZE = 64\n",
        "device = torch.device('cuda' if torch.cuda.is_available() else 'cpu')\n",
        "\n",
        "train_iterator, valid_iterator, test_iterator = data.BucketIterator.splits(\n",
        "    (train_data, valid_data, test_data), \n",
        "    batch_size = BATCH_SIZE, \n",
        "    device = device)"
      ],
      "execution_count": null,
      "outputs": []
    },
    {
      "cell_type": "code",
      "metadata": {
        "id": "X0KlsxWUdMrc",
        "colab_type": "code",
        "colab": {}
      },
      "source": [
        "# create the model \n",
        "class CNN(nn.Module):\n",
        "    def __init__(self, vocab_size, embedding_dim, n_filters, filter_sizes, output_dim, \n",
        "                 dropout, pad_idx):\n",
        "        \n",
        "        super().__init__()\n",
        "        \n",
        "        self.embedding = nn.Embedding(vocab_size, embedding_dim, padding_idx = pad_idx)\n",
        "        \n",
        "        self.convs = nn.ModuleList([\n",
        "                                    nn.Conv2d(in_channels = 1, \n",
        "                                              out_channels = n_filters, \n",
        "                                              kernel_size = (fs, embedding_dim)) \n",
        "                                    for fs in filter_sizes\n",
        "                                    ])\n",
        "        \n",
        "        self.fc = nn.Linear(len(filter_sizes) * n_filters, output_dim)\n",
        "        \n",
        "        self.dropout = nn.Dropout(dropout)\n",
        "        \n",
        "    def forward(self, text):\n",
        "        \n",
        "        #text = [sent len, batch size]\n",
        "\n",
        "        # torch.permute is use to swap the axis\n",
        "        text = text.permute(1, 0)\n",
        "                \n",
        "        #text = [batch size, sent len]\n",
        "        \n",
        "        embedded = self.embedding(text)\n",
        "                \n",
        "        #embedded = [batch size, sent len, emb dim]\n",
        "        \n",
        "        embedded = embedded.unsqueeze(1)\n",
        "        \n",
        "        #embedded = [batch size, 1, sent len, emb dim]\n",
        "        \n",
        "        conved = [F.relu(conv(embedded)).squeeze(3) for conv in self.convs]\n",
        "            \n",
        "        #conv_n = [batch size, n_filters, sent len - filter_sizes[n]]\n",
        "        \n",
        "        pooled = [F.max_pool1d(conv, conv.shape[2]).squeeze(2) for conv in conved]\n",
        "        \n",
        "        #pooled_n = [batch size, n_filters]\n",
        "        \n",
        "        cat = self.dropout(torch.cat(pooled, dim = 1))\n",
        "\n",
        "        #cat = [batch size, n_filters * len(filter_sizes)]\n",
        "            \n",
        "        return self.fc(cat)"
      ],
      "execution_count": null,
      "outputs": []
    },
    {
      "cell_type": "code",
      "metadata": {
        "id": "0QC28N44ipXR",
        "colab_type": "code",
        "colab": {
          "base_uri": "https://localhost:8080/",
          "height": 119
        },
        "outputId": "ebf44078-ad93-4aed-8332-6278723473b6"
      },
      "source": [
        "INPUT_DIM = len(TEXT.vocab)\n",
        "EMBEDDING_DIM = 200\n",
        "N_FILTERS = 100\n",
        "FILTER_SIZES = [2,3,4]\n",
        "OUTPUT_DIM = 1 # for just binary classification\n",
        "# OUTPUT_DIM = len(LABEL.vocab) # for multiclass classification uncomment this\n",
        "DROPOUT = 0.5\n",
        "PAD_IDX = TEXT.vocab.stoi[TEXT.pad_token]\n",
        "\n",
        "model = CNN(INPUT_DIM, EMBEDDING_DIM, N_FILTERS, FILTER_SIZES, OUTPUT_DIM, DROPOUT, PAD_IDX)\n",
        "print('INPUT_DIM:',INPUT_DIM,\"\\nEMBEDDING_DIM:\",EMBEDDING_DIM,\"\\nN_FILTERS:\",N_FILTERS,\"\\nFILTER_SIZES:\",FILTER_SIZES,\"\\nOUTPUT_DIM:\",OUTPUT_DIM,\"\\nPAD_IDX:\",PAD_IDX)"
      ],
      "execution_count": null,
      "outputs": [
        {
          "output_type": "stream",
          "text": [
            "INPUT_DIM: 100002 \n",
            "EMBEDDING_DIM: 200 \n",
            "N_FILTERS: 100 \n",
            "FILTER_SIZES: [2, 3, 4] \n",
            "OUTPUT_DIM: 1 \n",
            "PAD_IDX: 1\n"
          ],
          "name": "stdout"
        }
      ]
    },
    {
      "cell_type": "code",
      "metadata": {
        "id": "r2cHyTMCXhD4",
        "colab_type": "code",
        "colab": {
          "base_uri": "https://localhost:8080/",
          "height": 34
        },
        "outputId": "721b6a9b-bf22-498f-f5b8-09c8b43bf6bf"
      },
      "source": [
        "print(TEXT.vocab.stoi[TEXT.pad_token])"
      ],
      "execution_count": null,
      "outputs": [
        {
          "output_type": "stream",
          "text": [
            "1\n"
          ],
          "name": "stdout"
        }
      ]
    },
    {
      "cell_type": "code",
      "metadata": {
        "id": "ko07C__ykYiu",
        "colab_type": "code",
        "colab": {
          "base_uri": "https://localhost:8080/",
          "height": 34
        },
        "outputId": "eaad2b91-7711-4ab3-9f11-e984a55b2d6f"
      },
      "source": [
        "def count_parameters(model):\n",
        "    return sum(p.numel() for p in model.parameters() if p.requires_grad)\n",
        "\n",
        "print(f'The model has {count_parameters(model):,} trainable parameters')"
      ],
      "execution_count": null,
      "outputs": [
        {
          "output_type": "stream",
          "text": [
            "The model has 20,181,001 trainable parameters\n"
          ],
          "name": "stdout"
        }
      ]
    },
    {
      "cell_type": "code",
      "metadata": {
        "id": "ggIbXl7ekm6_",
        "colab_type": "code",
        "colab": {
          "base_uri": "https://localhost:8080/",
          "height": 255
        },
        "outputId": "0088423b-f85d-4441-a77f-89cb38047335"
      },
      "source": [
        "pretrained_embeddings = TEXT.vocab.vectors\n",
        "print(pretrained_embeddings)\n",
        "model.embedding.weight.data.copy_(pretrained_embeddings)"
      ],
      "execution_count": null,
      "outputs": [
        {
          "output_type": "stream",
          "text": [
            "tensor([[-0.1117, -0.4966,  0.1631,  ..., -1.8542,  0.4022,  0.4238],\n",
            "        [ 0.2078,  1.1879, -0.7320,  ...,  1.3663, -0.4598,  0.6668],\n",
            "        [-0.0715,  0.0935,  0.0237,  ...,  0.3362,  0.0306,  0.2558],\n",
            "        ...,\n",
            "        [ 0.9199,  1.6288, -0.7184,  ..., -0.3771,  0.3570, -0.6618],\n",
            "        [ 0.7744,  0.6477,  0.0234,  ..., -0.1684, -0.6374,  0.3421],\n",
            "        [-0.1095, -1.0616, -0.7907,  ..., -1.0804, -0.2631, -1.3688]])\n"
          ],
          "name": "stdout"
        },
        {
          "output_type": "execute_result",
          "data": {
            "text/plain": [
              "tensor([[-0.1117, -0.4966,  0.1631,  ..., -1.8542,  0.4022,  0.4238],\n",
              "        [ 0.2078,  1.1879, -0.7320,  ...,  1.3663, -0.4598,  0.6668],\n",
              "        [-0.0715,  0.0935,  0.0237,  ...,  0.3362,  0.0306,  0.2558],\n",
              "        ...,\n",
              "        [ 0.9199,  1.6288, -0.7184,  ..., -0.3771,  0.3570, -0.6618],\n",
              "        [ 0.7744,  0.6477,  0.0234,  ..., -0.1684, -0.6374,  0.3421],\n",
              "        [-0.1095, -1.0616, -0.7907,  ..., -1.0804, -0.2631, -1.3688]])"
            ]
          },
          "metadata": {
            "tags": []
          },
          "execution_count": 52
        }
      ]
    },
    {
      "cell_type": "code",
      "metadata": {
        "id": "a9A3b9jRARqj",
        "colab_type": "code",
        "colab": {}
      },
      "source": [
        "#Then zero the initial weights of the unknown and padding tokens.\n",
        "UNK_IDX = TEXT.vocab.stoi[TEXT.unk_token]\n",
        "\n",
        "model.embedding.weight.data[UNK_IDX] = torch.zeros(EMBEDDING_DIM)\n",
        "model.embedding.weight.data[PAD_IDX] = torch.zeros(EMBEDDING_DIM)"
      ],
      "execution_count": null,
      "outputs": []
    },
    {
      "cell_type": "code",
      "metadata": {
        "id": "SpizNFavBMdG",
        "colab_type": "code",
        "colab": {}
      },
      "source": [
        "#weight_decay=0.01\n",
        "optimizer = optim.Adam(model.parameters(),lr=0.001)\n",
        "\n",
        "#criterion = nn.CrossEntropyLoss() #for multi-class uncomment this\n",
        "criterion = nn.BCEWithLogitsLoss() # for two class\n",
        "\n",
        "model = model.to(device)\n",
        "criterion = criterion.to(device)"
      ],
      "execution_count": null,
      "outputs": []
    },
    {
      "cell_type": "code",
      "metadata": {
        "id": "7v1gIyvJBe3e",
        "colab_type": "code",
        "colab": {}
      },
      "source": [
        "# use for two class classification\n",
        "def binary_accuracy(preds, y):\n",
        "    \"\"\"\n",
        "    Returns accuracy per batch, i.e. if you get 8/10 right, this returns 0.8, NOT 8\n",
        "    \"\"\"\n",
        "\n",
        "    #round predictions to the closest integer\n",
        "    rounded_preds = torch.round(torch.sigmoid(preds))\n",
        "    correct = (rounded_preds == y).float() #convert into float for division \n",
        "    acc = correct.sum() / len(correct)\n",
        "    return acc"
      ],
      "execution_count": null,
      "outputs": []
    },
    {
      "cell_type": "code",
      "metadata": {
        "id": "1fEi9ttTBl8z",
        "colab_type": "code",
        "colab": {}
      },
      "source": [
        "# use for multiple class classification\n",
        "def categorical_accuracy(preds, y):\n",
        "    \"\"\"\n",
        "    Returns accuracy per batch, i.e. if you get 8/10 right, this returns 0.8, NOT 8\n",
        "    \"\"\"\n",
        "    max_preds = preds.argmax(dim = 1, keepdim = True) # get the index of the max probability\n",
        "    correct = max_preds.squeeze(1).eq(y)\n",
        "    return correct.sum() / torch.FloatTensor([y.shape[0]])"
      ],
      "execution_count": null,
      "outputs": []
    },
    {
      "cell_type": "code",
      "metadata": {
        "id": "v1dc1AZxBxJ2",
        "colab_type": "code",
        "colab": {}
      },
      "source": [
        "def train(model, iterator, optimizer, criterion):    \n",
        "    epoch_loss = 0\n",
        "    epoch_acc = 0\n",
        "    \n",
        "    model.train()\n",
        "    \n",
        "    for batch in iterator:\n",
        "        \n",
        "        optimizer.zero_grad()\n",
        "                \n",
        "        predictions = model(batch.text).squeeze(1)\n",
        "        \n",
        "        loss = criterion(predictions, batch.label)\n",
        "        \n",
        "        acc = binary_accuracy(predictions, batch.label) # for binary class\n",
        "        #acc = categorical_accuracy(predictions, batch.label) # for multiclass uncomment this\n",
        "        \n",
        "        loss.backward()\n",
        "        \n",
        "        optimizer.step()\n",
        "        \n",
        "        epoch_loss += loss.item()\n",
        "        epoch_acc += acc.item()\n",
        "        \n",
        "    return epoch_loss / len(iterator), epoch_acc / len(iterator)"
      ],
      "execution_count": null,
      "outputs": []
    },
    {
      "cell_type": "code",
      "metadata": {
        "id": "dnMdJmWlB8Sf",
        "colab_type": "code",
        "colab": {}
      },
      "source": [
        "def evaluate(model, iterator, criterion):\n",
        "    \n",
        "    epoch_loss = 0\n",
        "    epoch_acc = 0\n",
        "    \n",
        "    model.eval()\n",
        "    \n",
        "    with torch.no_grad():\n",
        "    \n",
        "        for batch in iterator:\n",
        "\n",
        "            predictions = model(batch.text).squeeze(1)\n",
        "            \n",
        "            loss = criterion(predictions, batch.label)\n",
        "            \n",
        "            acc = binary_accuracy(predictions, batch.label) # for two class\n",
        "            #acc = categorical_accuracy(predictions, batch.label) # for mlticlass uncomment this\n",
        "\n",
        "            epoch_loss += loss.item()\n",
        "            epoch_acc += acc.item()\n",
        "        \n",
        "    return epoch_loss / len(iterator), epoch_acc / len(iterator)"
      ],
      "execution_count": null,
      "outputs": []
    },
    {
      "cell_type": "code",
      "metadata": {
        "id": "gvA1AKHuCJox",
        "colab_type": "code",
        "colab": {}
      },
      "source": [
        "import time\n",
        "\n",
        "def epoch_time(start_time, end_time):\n",
        "    elapsed_time = end_time - start_time\n",
        "    elapsed_mins = int(elapsed_time / 60)\n",
        "    elapsed_secs = int(elapsed_time - (elapsed_mins * 60))\n",
        "    return elapsed_mins, elapsed_secs"
      ],
      "execution_count": null,
      "outputs": []
    },
    {
      "cell_type": "code",
      "metadata": {
        "id": "SMOczE_UCM8h",
        "colab_type": "code",
        "colab": {
          "base_uri": "https://localhost:8080/",
          "height": 68
        },
        "outputId": "780a8a25-1371-4daf-ca27-a1ff92cdd335"
      },
      "source": [
        "N_EPOCHS = 1\n",
        "\n",
        "best_valid_loss = float('inf')\n",
        "\n",
        "for epoch in range(N_EPOCHS):\n",
        "\n",
        "    start_time = time.time()\n",
        "    \n",
        "    train_loss, train_acc = train(model, train_iterator, optimizer, criterion)\n",
        "    valid_loss, valid_acc = evaluate(model, valid_iterator, criterion)\n",
        "    \n",
        "    end_time = time.time()\n",
        "\n",
        "    epoch_mins, epoch_secs = epoch_time(start_time, end_time)\n",
        "    \n",
        "    if valid_loss < best_valid_loss:\n",
        "        best_valid_loss = valid_loss\n",
        "        torch.save(model.state_dict(), 'tut5-model2.pt')\n",
        "    \n",
        "    print(f'Epoch: {epoch+1:02} | Epoch Time: {epoch_mins}m {epoch_secs}s')\n",
        "    print(f'\\tTrain Loss: {train_loss:.3f} | Train Acc: {train_acc*100:.2f}%')\n",
        "    print(f'\\t Val. Loss: {valid_loss:.3f} |  Val. Acc: {valid_acc*100:.2f}%')"
      ],
      "execution_count": null,
      "outputs": [
        {
          "output_type": "stream",
          "text": [
            "Epoch: 01 | Epoch Time: 0m 29s\n",
            "\tTrain Loss: 0.019 | Train Acc: 99.50%\n",
            "\t Val. Loss: 0.480 |  Val. Acc: 86.25%\n"
          ],
          "name": "stdout"
        }
      ]
    },
    {
      "cell_type": "code",
      "metadata": {
        "id": "Xedtr5nUCRF4",
        "colab_type": "code",
        "colab": {
          "base_uri": "https://localhost:8080/",
          "height": 34
        },
        "outputId": "7bf788a5-7b16-4bc5-9034-09f5bf322403"
      },
      "source": [
        "model.load_state_dict(torch.load('tut5-model.pt'))\n",
        "\n",
        "test_loss, test_acc = evaluate(model, test_iterator, criterion)\n",
        "\n",
        "print(f'Test Loss: {test_loss:.3f} | Test Acc: {test_acc*100:.2f}%')"
      ],
      "execution_count": null,
      "outputs": [
        {
          "output_type": "stream",
          "text": [
            "Test Loss: 0.450 | Test Acc: 84.40%\n"
          ],
          "name": "stdout"
        }
      ]
    },
    {
      "cell_type": "code",
      "metadata": {
        "id": "1Z82jvBFCW8T",
        "colab_type": "code",
        "colab": {}
      },
      "source": [
        "\n",
        "import spacy\n",
        "nlp = spacy.load('en')\n",
        "\n",
        "def predict_class(model, sentence, min_len = 4):\n",
        "    model.eval()\n",
        "    tokenized = [tok.text for tok in nlp.tokenizer(sentence)]\n",
        "    if len(tokenized) < min_len:\n",
        "        tokenized += ['<pad>'] * (min_len - len(tokenized))\n",
        "    indexed = [TEXT.vocab.stoi[t] for t in tokenized]\n",
        "    tensor = torch.LongTensor(indexed).to(device)\n",
        "    tensor = tensor.unsqueeze(1)\n",
        "    preds = torch.sigmoid(model(tensor))\n",
        "    #max_preds = preds.argmax(dim = 1) # for multiclass\n",
        "    return preds[0][0]#round(float(preds[0][0]))"
      ],
      "execution_count": null,
      "outputs": []
    },
    {
      "cell_type": "code",
      "metadata": {
        "id": "Hr3NErXjNCTS",
        "colab_type": "code",
        "colab": {
          "base_uri": "https://localhost:8080/",
          "height": 34
        },
        "outputId": "e43504b4-3b1a-441b-8f96-a359daca00be"
      },
      "source": [
        "predict_class(model, \"i hate it\")"
      ],
      "execution_count": null,
      "outputs": [
        {
          "output_type": "execute_result",
          "data": {
            "text/plain": [
              "tensor(0.4811, device='cuda:0', grad_fn=<SelectBackward>)"
            ]
          },
          "metadata": {
            "tags": []
          },
          "execution_count": 73
        }
      ]
    },
    {
      "cell_type": "code",
      "metadata": {
        "id": "bT4BEh-WCbGA",
        "colab_type": "code",
        "colab": {
          "base_uri": "https://localhost:8080/",
          "height": 34
        },
        "outputId": "f046b8e7-2cc9-4955-b79a-bcfb0fa11dac"
      },
      "source": [
        "pred_class = round(float(predict_class(model, \"The movie is quite a funny one you take birth and you die only to realize it was a character assessment test and your girlfriend leaves you because you have been a horrible person.\")))\n",
        "print(f'Predicted class is: {pred_class} = {LABEL.vocab.itos[pred_class]}')"
      ],
      "execution_count": null,
      "outputs": [
        {
          "output_type": "stream",
          "text": [
            "Predicted class is: 0 = neg\n"
          ],
          "name": "stdout"
        }
      ]
    },
    {
      "cell_type": "code",
      "metadata": {
        "id": "bgHULLDPLF7J",
        "colab_type": "code",
        "colab": {}
      },
      "source": [
        "def save_vocab(vocab, path):\n",
        "    import pickle\n",
        "    output = open(path, 'wb')\n",
        "    pickle.dump(vocab, output)\n",
        "    output.close()"
      ],
      "execution_count": null,
      "outputs": []
    },
    {
      "cell_type": "code",
      "metadata": {
        "id": "r0q-JVEtQIDG",
        "colab_type": "code",
        "colab": {}
      },
      "source": [
        "torch.save(TEXT.vocab,'vocab.pt')"
      ],
      "execution_count": null,
      "outputs": []
    },
    {
      "cell_type": "code",
      "metadata": {
        "id": "upNgm2-mRIe6",
        "colab_type": "code",
        "colab": {}
      },
      "source": [
        "torch.save(LABEL.vocab, 'label.pt')"
      ],
      "execution_count": null,
      "outputs": []
    },
    {
      "cell_type": "code",
      "metadata": {
        "id": "8Mtl9RAjQXq1",
        "colab_type": "code",
        "colab": {}
      },
      "source": [
        "objects = torch.load(\"vocab.pt\")"
      ],
      "execution_count": null,
      "outputs": []
    },
    {
      "cell_type": "code",
      "metadata": {
        "id": "dm93qujCfx3R",
        "colab_type": "code",
        "colab": {
          "base_uri": "https://localhost:8080/",
          "height": 35
        },
        "outputId": "95ac7c2a-c960-43fa-ddc5-0a372608a150"
      },
      "source": [
        "import torchtext\n",
        "torchtext.__version__"
      ],
      "execution_count": null,
      "outputs": [
        {
          "output_type": "execute_result",
          "data": {
            "application/vnd.google.colaboratory.intrinsic+json": {
              "type": "string"
            },
            "text/plain": [
              "'0.3.1'"
            ]
          },
          "metadata": {
            "tags": []
          },
          "execution_count": 91
        }
      ]
    },
    {
      "cell_type": "code",
      "metadata": {
        "id": "VekvdZOzf35w",
        "colab_type": "code",
        "colab": {}
      },
      "source": [
        ""
      ],
      "execution_count": null,
      "outputs": []
    }
  ]
}